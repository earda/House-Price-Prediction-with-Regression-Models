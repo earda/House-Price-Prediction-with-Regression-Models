{
 "cells": [
  {
   "cell_type": "code",
   "execution_count": 2,
   "metadata": {},
   "outputs": [],
   "source": [
    "import numpy as np\n",
    "import cv2\n",
    "from PIL import Image"
   ]
  },
  {
   "cell_type": "code",
   "execution_count": null,
   "metadata": {},
   "outputs": [],
   "source": [
    "# Read the image and perfrom an OTSU threshold\n",
    "img = cv2.imread('skin2.png')\n",
    "kernel = np.ones((15,15),np.uint8)\n",
    "\n",
    "# Perform closing to remove hair and blur the image\n",
    "closing = cv2.morphologyEx(img,cv2.MORPH_CLOSE,kernel, iterations = 2)\n",
    "blur = cv2.blur(closing,(15,15))\n",
    "\n",
    "# Binarize the image\n",
    "gray = cv2.cvtColor(blur,cv2.COLOR_BGR2GRAY)\n",
    "_, thresh = cv2.threshold(gray,0,255,cv2.THRESH_BINARY_INV+cv2.THRESH_OTSU)\n",
    "\n",
    "\n",
    "# Search for contours and select the biggest one\n",
    "_, contours, hierarchy =     cv2.findContours(thresh,cv2.RETR_TREE,cv2.CHAIN_APPROX_NONE)\n",
    "cnt = max(contours, key=cv2.contourArea)\n",
    "\n",
    "# Create a new mask for the result image\n",
    "h, w = img.shape[:2]\n",
    "mask = np.zeros((h, w), np.uint8)\n",
    "\n",
    "# Draw the contour on the new mask and perform the bitwise operation\n",
    "cv2.drawContours(mask, [cnt],-1, 255, -1)\n",
    "res = cv2.bitwise_and(img, img, mask=mask)\n",
    "\n",
    "# Calculate the mean color of the contour\n",
    "mean = cv2.mean(res, mask = mask)\n",
    "print(mean)"
   ]
  }
 ],
 "metadata": {
  "kernelspec": {
   "display_name": "Python 3",
   "language": "python",
   "name": "python3"
  },
  "language_info": {
   "codemirror_mode": {
    "name": "ipython",
    "version": 3
   },
   "file_extension": ".py",
   "mimetype": "text/x-python",
   "name": "python",
   "nbconvert_exporter": "python",
   "pygments_lexer": "ipython3",
   "version": "3.7.6"
  }
 },
 "nbformat": 4,
 "nbformat_minor": 4
}
