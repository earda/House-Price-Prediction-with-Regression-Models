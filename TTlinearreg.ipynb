{
 "cells": [
  {
   "cell_type": "code",
   "execution_count": 100,
   "metadata": {},
   "outputs": [],
   "source": [
    "import pandas as pd  \n",
    "import numpy as np  \n",
    "import matplotlib.pyplot as plt  \n",
    "import seaborn as seabornInstance \n",
    "from sklearn.model_selection import train_test_split \n",
    "from sklearn.linear_model import Lasso\n",
    "from sklearn import metrics\n",
    "%matplotlib inline"
   ]
  },
  {
   "cell_type": "code",
   "execution_count": 127,
   "metadata": {},
   "outputs": [
    {
     "ename": "SyntaxError",
     "evalue": "invalid syntax (<ipython-input-127-b5c2b00693ac>, line 8)",
     "output_type": "error",
     "traceback": [
      "\u001b[1;36m  File \u001b[1;32m\"<ipython-input-127-b5c2b00693ac>\"\u001b[1;36m, line \u001b[1;32m8\u001b[0m\n\u001b[1;33m    elif x == 'Mayıs': return 2\u001b[0m\n\u001b[1;37m       ^\u001b[0m\n\u001b[1;31mSyntaxError\u001b[0m\u001b[1;31m:\u001b[0m invalid syntax\n"
     ]
    }
   ],
   "source": [
    "dataset = pd.read_csv('proje1.csv',encoding='latin5',sep=\";\")\n",
    "\n",
    "def intdegeremlak(x):\n",
    "    if x == 'Daire':return 1\n",
    "    else:return 0\n",
    "def intdegeray(x):\n",
    "    if x == 'Haziran':return 1\n",
    "elif x == 'Mayıs': return 2\n",
    "    else :return 0\n",
    "def mahalleint(x):\n",
    "    if x == 'Esentepe':return 1\n",
    "    elif x == 'Yakacık':return 3\n",
    "    elif x == 'Soğanlık':return 2\n",
    "    elif x == 'Rahmanlar':return 5\n",
    "    elif x == 'Uğurmumcu':return 7\n",
    "    elif x == 'Topselvi':return 8\n",
    "    elif x == 'Dragos':return 4\n",
    "    else :return 0\n",
    "dataset['Emlak Tipi']=dataset['Emlak Tipi'].apply(intdegeremlak)\n",
    "dataset['Ay']=dataset['Ay'].apply(intdegeray)\n",
    "dataset['Mahalle']=dataset['Mahalle'].apply(mahalleint)\n",
    "\n",
    "#dataset[150:200]"
   ]
  },
  {
   "cell_type": "code",
   "execution_count": 102,
   "metadata": {},
   "outputs": [],
   "source": [
    "X =dataset.drop(['Fiyat'], axis=1)\n",
    "y = dataset['Fiyat'].values.reshape(-1,1)"
   ]
  },
  {
   "cell_type": "code",
   "execution_count": 103,
   "metadata": {},
   "outputs": [],
   "source": [
    "from sklearn.model_selection import train_test_split\n",
    "X_train, X_test, y_train, y_test = train_test_split(X, y,test_size = 0.3, random_state=1)"
   ]
  },
  {
   "cell_type": "code",
   "execution_count": 104,
   "metadata": {},
   "outputs": [
    {
     "name": "stdout",
     "output_type": "stream",
     "text": [
      "iNTERCEPT :  [220556.05795133]\n",
      "CO-EFFICIENT :  [[     0.           3269.32545291 -42741.62337547   -778.4955773\n",
      "   12739.86250868   3852.46086261]]\n"
     ]
    }
   ],
   "source": [
    "from sklearn.linear_model import LinearRegression\n",
    "linreg = LinearRegression()\n",
    "linreg.fit(X_train, y_train)\n",
    "LinearRegression(copy_X=True, fit_intercept=True, n_jobs=None, normalize=False)\n",
    "print (\"iNTERCEPT : \",linreg.intercept_)\n",
    "print (\"CO-EFFICIENT : \",linreg.coef_)"
   ]
  },
  {
   "cell_type": "code",
   "execution_count": 105,
   "metadata": {},
   "outputs": [
    {
     "name": "stdout",
     "output_type": "stream",
     "text": [
      "Test [[480000]\n",
      " [320000]\n",
      " [480000]\n",
      " ...\n",
      " [600000]\n",
      " [600000]\n",
      " [379000]]\n",
      "Prediction [[418793.26705555]\n",
      " [433582.90316549]\n",
      " [399112.03583455]\n",
      " ...\n",
      " [583816.53085549]\n",
      " [576111.60913027]\n",
      " [432065.92903477]]\n"
     ]
    }
   ],
   "source": [
    "y_pred = linreg.predict(X_test)\n",
    " \n",
    "print('Test',y_test)\n",
    "print('Prediction',y_pred)"
   ]
  },
  {
   "cell_type": "code",
   "execution_count": 106,
   "metadata": {},
   "outputs": [
    {
     "name": "stdout",
     "output_type": "stream",
     "text": [
      "R-Square Value 0.11669295083010167\n",
      "\n",
      "\n",
      "mean_absolute_error : 131254.3998466105\n",
      "\n",
      "\n",
      "mean_squared_error :  37659163884.462616\n",
      "\n",
      "\n",
      "root_mean_squared_error :  194059.69154995226\n"
     ]
    }
   ],
   "source": [
    "# calculate R^2 value, MAE, MSE, RMSE\n",
    "\n",
    "from sklearn.metrics import r2_score\n",
    "from sklearn import metrics\n",
    "print(\"R-Square Value\",r2_score(y_test,y_pred))\n",
    "print(\"\\n\")\n",
    "print (\"mean_absolute_error :\",metrics.mean_absolute_error(y_test, y_pred))\n",
    "print(\"\\n\")\n",
    "print (\"mean_squared_error : \",metrics.mean_squared_error(y_test, y_pred))\n",
    "print(\"\\n\")\n",
    "print (\"root_mean_squared_error : \",np.sqrt(metrics.mean_squared_error(y_test, y_pred)))"
   ]
  },
  {
   "cell_type": "code",
   "execution_count": 107,
   "metadata": {},
   "outputs": [
    {
     "name": "stdout",
     "output_type": "stream",
     "text": [
      "Test [[480000]\n",
      " [320000]\n",
      " [480000]\n",
      " ...\n",
      " [600000]\n",
      " [600000]\n",
      " [379000]]\n",
      "Prediction [[418793.26705555]\n",
      " [433582.90316549]\n",
      " [399112.03583455]\n",
      " ...\n",
      " [583816.53085549]\n",
      " [576111.60913027]\n",
      " [432065.92903477]]\n"
     ]
    }
   ],
   "source": [
    "# alpha=0 is equivalent to linear regression\n",
    "from sklearn.linear_model import Ridge\n",
    "ridgereg = Ridge(alpha=0, normalize=True)\n",
    "ridgereg.fit(X_train, y_train)\n",
    "y_pred = ridgereg.predict(X_test)\n",
    "print('Test',y_test)\n",
    "print('Prediction',y_pred)"
   ]
  },
  {
   "cell_type": "code",
   "execution_count": 108,
   "metadata": {},
   "outputs": [
    {
     "name": "stdout",
     "output_type": "stream",
     "text": [
      "R-Square Value 0.11669295083010156\n",
      "\n",
      "\n",
      "mean_absolute_error : 131254.3998466105\n",
      "\n",
      "\n",
      "mean_squared_error :  37659163884.462616\n",
      "\n",
      "\n",
      "root_mean_squared_error :  194059.69154995226\n"
     ]
    }
   ],
   "source": [
    "# calculate R^2 value, MAE, MSE, RMSE\n",
    "\n",
    "from sklearn import metrics\n",
    "print(\"R-Square Value\",r2_score(y_test,y_pred))\n",
    "print(\"\\n\")\n",
    "print (\"mean_absolute_error :\",metrics.mean_absolute_error(y_test, y_pred))\n",
    "print(\"\\n\")\n",
    "print (\"mean_squared_error : \",metrics.mean_squared_error(y_test, y_pred))\n",
    "print(\"\\n\")\n",
    "print (\"root_mean_squared_error : \",np.sqrt(metrics.mean_squared_error(y_test, y_pred)))"
   ]
  },
  {
   "cell_type": "code",
   "execution_count": 109,
   "metadata": {},
   "outputs": [
    {
     "name": "stdout",
     "output_type": "stream",
     "text": [
      "Test [[480000]\n",
      " [320000]\n",
      " [480000]\n",
      " ...\n",
      " [600000]\n",
      " [600000]\n",
      " [379000]]\n",
      "Prediction [[438904.30559441]\n",
      " [449391.88155938]\n",
      " [406159.05405813]\n",
      " ...\n",
      " [560769.83529972]\n",
      " [553806.52684223]\n",
      " [448227.0141564 ]]\n"
     ]
    }
   ],
   "source": [
    "# try alpha=0.1\n",
    "ridgereg = Ridge(alpha=0.1, normalize=True)\n",
    "ridgereg.fit(X_train, y_train)\n",
    "y_pred = ridgereg.predict(X_test)\n",
    "print('Test',y_test)\n",
    "print('Prediction',y_pred)"
   ]
  },
  {
   "cell_type": "code",
   "execution_count": 110,
   "metadata": {},
   "outputs": [
    {
     "name": "stdout",
     "output_type": "stream",
     "text": [
      "R-Square Value 0.1301597813245231\n",
      "\n",
      "\n",
      "mean_absolute_error : 131676.32919833076\n",
      "\n",
      "\n",
      "mean_squared_error :  37085015204.14777\n",
      "\n",
      "\n",
      "root_mean_squared_error :  192574.700322103\n"
     ]
    }
   ],
   "source": [
    "\n",
    "from sklearn import metrics\n",
    "print(\"R-Square Value\",r2_score(y_test,y_pred))\n",
    "print(\"\\n\")\n",
    "print (\"mean_absolute_error :\",metrics.mean_absolute_error(y_test, y_pred))\n",
    "print(\"\\n\")\n",
    "print (\"mean_squared_error : \",metrics.mean_squared_error(y_test, y_pred))\n",
    "print(\"\\n\")\n",
    "print (\"root_mean_squared_error : \",np.sqrt(metrics.mean_squared_error(y_test, y_pred)))"
   ]
  },
  {
   "cell_type": "code",
   "execution_count": 111,
   "metadata": {},
   "outputs": [
    {
     "name": "stdout",
     "output_type": "stream",
     "text": [
      "[[     0.           2406.4201031  -21485.80953204   -772.26227525\n",
      "   19380.68423638   3481.65422874]]\n"
     ]
    }
   ],
   "source": [
    "# examing the coefficients\n",
    "print(ridgereg.coef_)"
   ]
  },
  {
   "cell_type": "code",
   "execution_count": 112,
   "metadata": {},
   "outputs": [
    {
     "data": {
      "text/plain": [
       "0.01"
      ]
     },
     "execution_count": 112,
     "metadata": {},
     "output_type": "execute_result"
    }
   ],
   "source": [
    "# create an array of alpha values\n",
    "alpha_range = 10.**np.arange(-2, 3)\n",
    "alpha_range\n",
    "array=[]\n",
    " \n",
    "from sklearn.linear_model import RidgeCV\n",
    "ridgeregcv = RidgeCV(alphas=alpha_range, normalize=True, scoring='neg_mean_squared_error')\n",
    "ridgeregcv.fit(X_train, y_train)\n",
    "ridgeregcv.alpha_"
   ]
  },
  {
   "cell_type": "code",
   "execution_count": 113,
   "metadata": {},
   "outputs": [
    {
     "name": "stdout",
     "output_type": "stream",
     "text": [
      "Test [[480000]\n",
      " [320000]\n",
      " [480000]\n",
      " ...\n",
      " [600000]\n",
      " [600000]\n",
      " [379000]]\n",
      "Prediction [[421732.94560849]\n",
      " [435885.89858262]\n",
      " [400060.3482623 ]\n",
      " ...\n",
      " [580652.16358253]\n",
      " [573034.44068088]\n",
      " [434448.35825444]]\n"
     ]
    }
   ],
   "source": [
    "# predict method uses the best alpha value\n",
    "y_pred = ridgeregcv.predict(X_test)\n",
    "print('Test',y_test)\n",
    "print('Prediction',y_pred)"
   ]
  },
  {
   "cell_type": "code",
   "execution_count": 114,
   "metadata": {},
   "outputs": [
    {
     "name": "stdout",
     "output_type": "stream",
     "text": [
      "R-Square Value 0.11993394008785196\n",
      "\n",
      "\n",
      "mean_absolute_error : 131156.44703364\n",
      "\n",
      "\n",
      "mean_squared_error :  37520986626.93919\n",
      "\n",
      "\n",
      "root_mean_squared_error :  193703.34696886162\n"
     ]
    }
   ],
   "source": [
    "\n",
    "from sklearn import metrics\n",
    "print(\"R-Square Value\",r2_score(y_test,y_pred))\n",
    "print(\"\\n\")\n",
    "print (\"mean_absolute_error :\",metrics.mean_absolute_error(y_test, y_pred))\n",
    "print(\"\\n\")\n",
    "print (\"mean_squared_error : \",metrics.mean_squared_error(y_test, y_pred))\n",
    "print(\"\\n\")\n",
    "print (\"root_mean_squared_error : \",np.sqrt(metrics.mean_squared_error(y_test, y_pred)))"
   ]
  },
  {
   "cell_type": "code",
   "execution_count": 115,
   "metadata": {},
   "outputs": [
    {
     "name": "stdout",
     "output_type": "stream",
     "text": [
      "[     0.           3269.31841627 -42741.42188145   -778.43327873\n",
      "  12738.78921924   3852.42899794]\n"
     ]
    }
   ],
   "source": [
    "# try alpha=0.001 and examine coefficients\n",
    "from sklearn.linear_model import Lasso\n",
    "lassoreg = Lasso(alpha=0.001, normalize=True)\n",
    "lassoreg.fit(X_train, y_train)\n",
    "print(lassoreg.coef_)"
   ]
  },
  {
   "cell_type": "code",
   "execution_count": 116,
   "metadata": {},
   "outputs": [
    {
     "name": "stdout",
     "output_type": "stream",
     "text": [
      "[     0.           3269.25516379 -42739.61012796   -777.87246084\n",
      "  12729.12719815   3852.1422064 ]\n"
     ]
    }
   ],
   "source": [
    "# try alpha=0.01 and examine coefficients\n",
    "lassoreg = Lasso(alpha=0.01, normalize=True)\n",
    "lassoreg.fit(X_train, y_train)\n",
    "print(lassoreg.coef_)"
   ]
  },
  {
   "cell_type": "code",
   "execution_count": 117,
   "metadata": {},
   "outputs": [
    {
     "name": "stdout",
     "output_type": "stream",
     "text": [
      "Test [[480000]\n",
      " [320000]\n",
      " [480000]\n",
      " ...\n",
      " [600000]\n",
      " [600000]\n",
      " [379000]]\n",
      "Prediction [418795.78124484 433586.31214211 399111.10010266 ... 583814.28435592\n",
      " 576109.99994312 432067.78731822]\n"
     ]
    }
   ],
   "source": [
    "# calculate RMSE (for alpha=0.01)\n",
    "y_pred = lassoreg.predict(X_test)\n",
    "print('Test',y_test)\n",
    "print('Prediction',y_pred)"
   ]
  },
  {
   "cell_type": "code",
   "execution_count": 118,
   "metadata": {},
   "outputs": [
    {
     "name": "stdout",
     "output_type": "stream",
     "text": [
      "R-Square Value 0.11669483659020774\n",
      "\n",
      "\n",
      "mean_absolute_error : 131254.25043729795\n",
      "\n",
      "\n",
      "mean_squared_error :  37659083486.43008\n",
      "\n",
      "\n",
      "root_mean_squared_error :  194059.48440215457\n"
     ]
    }
   ],
   "source": [
    "# calculate MAE, MSE, RMSE\n",
    "# calculate R^2 value, MAE, MSE, RMSE\n",
    "\n",
    "from sklearn import metrics\n",
    "print(\"R-Square Value\",r2_score(y_test,y_pred))\n",
    "print(\"\\n\")\n",
    "print (\"mean_absolute_error :\",metrics.mean_absolute_error(y_test, y_pred))\n",
    "print(\"\\n\")\n",
    "print (\"mean_squared_error : \",metrics.mean_squared_error(y_test, y_pred))\n",
    "print(\"\\n\")\n",
    "print (\"root_mean_squared_error : \",np.sqrt(metrics.mean_squared_error(y_test, y_pred)))"
   ]
  },
  {
   "cell_type": "code",
   "execution_count": 119,
   "metadata": {},
   "outputs": [],
   "source": [
    "import matplotlib.pyplot as plt \n"
   ]
  },
  {
   "cell_type": "code",
   "execution_count": 120,
   "metadata": {},
   "outputs": [],
   "source": [
    "def scatter_plot(feature,target):\n",
    "    plt.figure(figsize=(16,8))\n",
    "    plt.scatter(dataset[feature],\n",
    "               dataset[target],\n",
    "               c='black')\n",
    "    plt.show"
   ]
  },
  {
   "cell_type": "code",
   "execution_count": 121,
   "metadata": {},
   "outputs": [
    {
     "data": {
      "image/png": "[encoded data removed]",
      "text/plain": [
       "<Figure size 1152x576 with 1 Axes>"
      ]
     },
     "metadata": {
      "needs_background": "light"
     },
     "output_type": "display_data"
    }
   ],
   "source": [
    "scatter_plot('MetreKare','Fiyat')"
   ]
  },
  {
   "cell_type": "code",
   "execution_count": 122,
   "metadata": {},
   "outputs": [],
   "source": [
    "X = dataset['MetreKare'].values\n",
    "Y = dataset['Fiyat'].values"
   ]
  },
  {
   "cell_type": "code",
   "execution_count": 123,
   "metadata": {},
   "outputs": [],
   "source": [
    "mean_x = np.mean(X)\n",
    "mean_y = np.mean(Y)\n"
   ]
  },
  {
   "cell_type": "code",
   "execution_count": 124,
   "metadata": {},
   "outputs": [
    {
     "name": "stdout",
     "output_type": "stream",
     "text": [
      "1970.4185692672775 227398.00183244114\n"
     ]
    }
   ],
   "source": [
    "#Total Number of values\n",
    "m = len(X)\n",
    "\n",
    "#Using the formula to calculate b1 and b2\n",
    "numer=0\n",
    "denom=0\n",
    "for i in range(m):\n",
    "    numer += (X[i]- mean_x) * (Y[i]- mean_y)\n",
    "    denom += (X[i]- mean_x) ** 2\n",
    "b1 = numer / denom\n",
    "b0 = mean_y - (b1 * mean_x)\n",
    "\n",
    "#Print coefficent\n",
    "print(b1,b0)"
   ]
  },
  {
   "cell_type": "code",
   "execution_count": 125,
   "metadata": {},
   "outputs": [
    {
     "data": {
      "image/png": "[encoded data removed]",
      "text/plain": [
       "<Figure size 432x288 with 1 Axes>"
      ]
     },
     "metadata": {
      "needs_background": "light"
     },
     "output_type": "display_data"
    }
   ],
   "source": [
    "#Plotting values and Regression Line\n",
    "max_x = np.max(X) + 100\n",
    "min_x = np.min(X) - 100\n",
    "\n",
    "#Calculating line values x and y\n",
    "x = np.linspace(min_x,max_x,1000)\n",
    "y = b0+b1*x\n",
    "\n",
    "#Plotting Line\n",
    "plt.plot(x,y, color='#58b970',label='MetreKare')\n",
    "#Plotting Scatter Points\n",
    "plt.scatter(X,Y, c='#ef5423', label='Fiyat')\n",
    "\n",
    "plt.xlabel('MetreKare')\n",
    "plt.ylabel('Fiyat')\n",
    "plt.legend()\n",
    "plt.show()"
   ]
  },
  {
   "cell_type": "code",
   "execution_count": null,
   "metadata": {},
   "outputs": [],
   "source": []
  },
  {
   "cell_type": "code",
   "execution_count": null,
   "metadata": {},
   "outputs": [],
   "source": []
  },
  {
   "cell_type": "code",
   "execution_count": null,
   "metadata": {},
   "outputs": [],
   "source": []
  }
 ],
 "metadata": {
  "kernelspec": {
   "display_name": "Python 3",
   "language": "python",
   "name": "python3"
  },
  "language_info": {
   "codemirror_mode": {
    "name": "ipython",
    "version": 3
   },
   "file_extension": ".py",
   "mimetype": "text/x-python",
   "name": "python",
   "nbconvert_exporter": "python",
   "pygments_lexer": "ipython3",
   "version": "3.7.6"
  }
 },
 "nbformat": 4,
 "nbformat_minor": 4
}
