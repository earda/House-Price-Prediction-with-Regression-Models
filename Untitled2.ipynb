{
 "cells": [
  {
   "cell_type": "code",
   "execution_count": 108,
   "metadata": {},
   "outputs": [],
   "source": [
    "import  pandas as pd \n",
    "import numpy as np\n",
    "import matplotlib.pyplot as plt"
   ]
  },
  {
   "cell_type": "code",
   "execution_count": 155,
   "metadata": {},
   "outputs": [
    {
     "data": {
      "text/html": [
       "<div>\n",
       "<style scoped>\n",
       "    .dataframe tbody tr th:only-of-type {\n",
       "        vertical-align: middle;\n",
       "    }\n",
       "\n",
       "    .dataframe tbody tr th {\n",
       "        vertical-align: top;\n",
       "    }\n",
       "\n",
       "    .dataframe thead th {\n",
       "        text-align: right;\n",
       "    }\n",
       "</style>\n",
       "<table border=\"1\" class=\"dataframe\">\n",
       "  <thead>\n",
       "    <tr style=\"text-align: right;\">\n",
       "      <th></th>\n",
       "      <th>Emlak Tipi</th>\n",
       "      <th>MetreKare</th>\n",
       "      <th>Oda Sayısı</th>\n",
       "      <th>Fiyat</th>\n",
       "      <th>Gün</th>\n",
       "      <th>Ay</th>\n",
       "      <th>Mahalle</th>\n",
       "    </tr>\n",
       "  </thead>\n",
       "  <tbody>\n",
       "    <tr>\n",
       "      <th>0</th>\n",
       "      <td>Daire</td>\n",
       "      <td>111</td>\n",
       "      <td>3+1</td>\n",
       "      <td>229000</td>\n",
       "      <td>8</td>\n",
       "      <td>Haziran</td>\n",
       "      <td>Yakacık</td>\n",
       "    </tr>\n",
       "    <tr>\n",
       "      <th>1</th>\n",
       "      <td>Daire</td>\n",
       "      <td>100</td>\n",
       "      <td>3+1</td>\n",
       "      <td>255000</td>\n",
       "      <td>9</td>\n",
       "      <td>Haziran</td>\n",
       "      <td>Orhantepe</td>\n",
       "    </tr>\n",
       "    <tr>\n",
       "      <th>2</th>\n",
       "      <td>Daire</td>\n",
       "      <td>450</td>\n",
       "      <td>6+2</td>\n",
       "      <td>1550000</td>\n",
       "      <td>4</td>\n",
       "      <td>Haziran</td>\n",
       "      <td>Rahmanlar</td>\n",
       "    </tr>\n",
       "    <tr>\n",
       "      <th>3</th>\n",
       "      <td>Daire</td>\n",
       "      <td>330</td>\n",
       "      <td>4+1</td>\n",
       "      <td>165000</td>\n",
       "      <td>7</td>\n",
       "      <td>Haziran</td>\n",
       "      <td>Rahmanlar</td>\n",
       "    </tr>\n",
       "    <tr>\n",
       "      <th>4</th>\n",
       "      <td>Daire</td>\n",
       "      <td>300</td>\n",
       "      <td>5+2</td>\n",
       "      <td>210000</td>\n",
       "      <td>4</td>\n",
       "      <td>Haziran</td>\n",
       "      <td>Soğanlık</td>\n",
       "    </tr>\n",
       "  </tbody>\n",
       "</table>\n",
       "</div>"
      ],
      "text/plain": [
       "  Emlak Tipi  MetreKare Oda Sayısı    Fiyat  Gün       Ay    Mahalle\n",
       "0      Daire        111        3+1   229000    8  Haziran    Yakacık\n",
       "1      Daire        100        3+1   255000    9  Haziran  Orhantepe\n",
       "2      Daire        450        6+2  1550000    4  Haziran  Rahmanlar\n",
       "3      Daire        330        4+1   165000    7  Haziran  Rahmanlar\n",
       "4      Daire        300        5+2   210000    4  Haziran   Soğanlık"
      ]
     },
     "execution_count": 155,
     "metadata": {},
     "output_type": "execute_result"
    }
   ],
   "source": [
    "df = pd.read_csv('proje1.csv',encoding=\"latin5\",sep=\";\")\n",
    " \n",
    "df.shape\n",
    "df.head()"
   ]
  },
  {
   "cell_type": "code",
   "execution_count": 158,
   "metadata": {},
   "outputs": [
    {
     "data": {
      "text/plain": [
       "<function matplotlib.pyplot.show(*args, **kw)>"
      ]
     },
     "execution_count": 158,
     "metadata": {},
     "output_type": "execute_result"
    },
    {
     "data": {
      "image/png": "[encoded data removed]",
      "text/plain": [
       "<Figure size 432x288 with 1 Axes>"
      ]
     },
     "metadata": {
      "needs_background": "light"
     },
     "output_type": "display_data"
    }
   ],
   "source": [
    "MetreKare = df[['MetreKare']]\n",
    "Fiyat = df[['Fiyat']]\n",
    "from sklearn.model_selection import train_test_split\n",
    "x_MetreKare,x_test,y_Fiyat,y_test = train_test_split(MetreKare,Fiyat,test_size=0.20,random_state=0)\n",
    "from sklearn.linear_model import Lasso\n",
    "linear = Lasso(alpha=1)\n",
    "linear.fit(x_MetreKare,y_Fiyat)\n",
    "tahmin=linear.predict(x_test)\n",
    "x_MetreKare = x_MetreKare.sort_index()\n",
    "y_Fiyat = y_Fiyat.sort_index()\n",
    "plt.plot(x_MetreKare,y_Fiyat)\n",
    "plt.plot(x_test,tahmin)\n",
    "plt.show"
   ]
  },
  {
   "cell_type": "code",
   "execution_count": null,
   "metadata": {},
   "outputs": [],
   "source": [
    "\n"
   ]
  },
  {
   "cell_type": "code",
   "execution_count": null,
   "metadata": {},
   "outputs": [],
   "source": []
  }
 ],
 "metadata": {
  "kernelspec": {
   "display_name": "Python 3",
   "language": "python",
   "name": "python3"
  },
  "language_info": {
   "codemirror_mode": {
    "name": "ipython",
    "version": 3
   },
   "file_extension": ".py",
   "mimetype": "text/x-python",
   "name": "python",
   "nbconvert_exporter": "python",
   "pygments_lexer": "ipython3",
   "version": "3.7.6"
  }
 },
 "nbformat": 4,
 "nbformat_minor": 4
}
