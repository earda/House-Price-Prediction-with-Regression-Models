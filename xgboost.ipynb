{
 "cells": [
  {
   "cell_type": "code",
   "execution_count": 18,
   "metadata": {},
   "outputs": [],
   "source": [
    "import xgboost as xgb\n",
    "from sklearn.metrics import mean_squared_error\n",
    "import pandas as pd\n",
    "import numpy as np"
   ]
  },
  {
   "cell_type": "code",
   "execution_count": 53,
   "metadata": {},
   "outputs": [],
   "source": [
    "dataset = pd.read_csv('proje1.csv',encoding='latin5',sep=\";\")\n",
    "\n",
    "def intdegeremlak(x):\n",
    "    if x == 'Daire':\n",
    "        return 1\n",
    "    else:\n",
    "        return 0\n",
    "def intdegeray(x):\n",
    "    if x == 'Haziran':\n",
    "        return 1\n",
    "    elif x == 'Mayıs':\n",
    "        return 2\n",
    "    else :\n",
    "        return 0\n",
    "\n",
    "\n",
    "def mahalleint(x):\n",
    "    if x == 'Esentepe':\n",
    "        return 1\n",
    "    elif x == 'Yakacık':\n",
    "        return 3\n",
    "    elif x == 'Soğanlık':\n",
    "        return 2\n",
    "    elif x == 'Rahmanlar':\n",
    "        return 5\n",
    "    elif x == 'Uğurmumcu':\n",
    "        return 7\n",
    "    elif x == 'Topselvi':\n",
    "        return 8\n",
    "    elif x == 'Dragos':\n",
    "        return 4\n",
    "    else :\n",
    "        return 0\n",
    "dataset['Emlak Tipi']=dataset['Emlak Tipi'].apply(intdegeremlak)\n",
    "\n",
    "dataset['Ay']=dataset['Ay'].apply(intdegeray)\n",
    "dataset['Mahalle']=dataset['Mahalle'].apply(mahalleint)"
   ]
  },
  {
   "cell_type": "code",
   "execution_count": 54,
   "metadata": {},
   "outputs": [],
   "source": [
    "X, y = dataset.iloc[:,:-1],dataset.iloc[:,-1]\n",
    "data_dmatrix = xgb.DMatrix(data=X,label=y)"
   ]
  },
  {
   "cell_type": "code",
   "execution_count": null,
   "metadata": {},
   "outputs": [],
   "source": []
  },
  {
   "cell_type": "code",
   "execution_count": 55,
   "metadata": {},
   "outputs": [],
   "source": [
    "from sklearn.model_selection import train_test_split\n",
    "X_train, X_test, y_train, y_test = train_test_split(X, y, test_size=0.25, random_state=0)"
   ]
  },
  {
   "cell_type": "code",
   "execution_count": 56,
   "metadata": {},
   "outputs": [],
   "source": [
    "xg_reg = xgb.XGBRegressor(colsample_bytree = 0.3, learning_rate = 0.1,\n",
    "                max_depth = 5, alpha = 10, n_estimators = 10)"
   ]
  },
  {
   "cell_type": "code",
   "execution_count": 57,
   "metadata": {},
   "outputs": [
    {
     "name": "stdout",
     "output_type": "stream",
     "text": [
      "      Actual  Predicted\n",
      "825        8   2.414898\n",
      "4077       4   2.414898\n",
      "971        2   2.359720\n",
      "1499       5   2.359720\n",
      "3176       2   2.359720\n",
      "587        3   2.399484\n",
      "1191       2   2.399484\n",
      "2439       3   2.414898\n",
      "3922       1   2.359720\n",
      "3001       2   2.359720\n"
     ]
    }
   ],
   "source": [
    "xg_reg.fit(X_train,y_train)\n",
    "preds = xg_reg.predict(X_test)\n",
    "df = pd.DataFrame({'Actual': y_test, 'Predicted': preds})\n",
    "print(df.head(10))"
   ]
  },
  {
   "cell_type": "code",
   "execution_count": 48,
   "metadata": {},
   "outputs": [
    {
     "name": "stdout",
     "output_type": "stream",
     "text": [
      "RMSE: 2.062747\n"
     ]
    }
   ],
   "source": [
    "rmse = np.sqrt(mean_squared_error(y_test, preds))\n",
    "print(\"RMSE: %f\" % (rmse))"
   ]
  },
  {
   "cell_type": "code",
   "execution_count": null,
   "metadata": {},
   "outputs": [],
   "source": []
  }
 ],
 "metadata": {
  "kernelspec": {
   "display_name": "Python 3",
   "language": "python",
   "name": "python3"
  },
  "language_info": {
   "codemirror_mode": {
    "name": "ipython",
    "version": 3
   },
   "file_extension": ".py",
   "mimetype": "text/x-python",
   "name": "python",
   "nbconvert_exporter": "python",
   "pygments_lexer": "ipython3",
   "version": "3.7.6"
  }
 },
 "nbformat": 4,
 "nbformat_minor": 4
}
